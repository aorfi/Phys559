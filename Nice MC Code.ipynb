{
 "cells": [
  {
   "cell_type": "code",
   "execution_count": 19,
   "metadata": {},
   "outputs": [],
   "source": [
    "import numpy as np\n",
    "import random\n",
    "import matplotlib.pyplot as plt\n",
    "import pickle\n",
    "from scipy.io import loadmat"
   ]
  },
  {
   "cell_type": "code",
   "execution_count": 20,
   "metadata": {},
   "outputs": [],
   "source": [
    "def MetroSweep(lattice,J,B):#Sweeps through each element of the lattice\n",
    "    for j in range(n):\n",
    "        for i in range(n):\n",
    "            #Energy of site i,j  \n",
    "            Ei = -J*lattice[(i)%n][(j)%n]*(lattice[(i+1)%n][(j)%n]+lattice[(i-1)%n][(j)%n]+lattice[(i)%n][(j+1)%n]+lattice[(i)%n][(j-1)%n])\n",
    "            #Energy of site i,j if flipped\n",
    "            Ef = -Ei\n",
    "            #Change in energy\n",
    "            delE = Ef - Ei\n",
    "            #if energy is favourable flip\n",
    "            if delE <= 0:\n",
    "                lattice[i%n][j%n] = -lattice[i%n][j%n]\n",
    "            #if energy not favourable flip with probability\n",
    "            elif random.random() < np.exp(-B*delE):          \n",
    "                    lattice[i%n][j%n] = -lattice[i%n][j%n]\n",
    "    return lattice  "
   ]
  },
  {
   "cell_type": "code",
   "execution_count": 24,
   "metadata": {},
   "outputs": [],
   "source": [
    "#calculates the magnetization for different temperatures\n",
    "def MagCalc(lattice):\n",
    "    mag = np.sum(lattice)\n",
    "    return mag"
   ]
  },
  {
   "cell_type": "code",
   "execution_count": 25,
   "metadata": {},
   "outputs": [],
   "source": [
    "#calculates the energy\n",
    "def Energy(lattice):\n",
    "    energy = 0\n",
    "    for i in range(n):\n",
    "        for j in range(n):\n",
    "            S = lattice[i,j]\n",
    "            Ei = lattice[(i+1)%n][(j)%n]+lattice[(i-1)%n][(j)%n]+lattice[(i)%n][(j+1)%n]+lattice[(i)%n][(j-1)%n]\n",
    "            energy += -Ei*S\n",
    "    return energy/4."
   ]
  },
  {
   "cell_type": "code",
   "execution_count": 32,
   "metadata": {},
   "outputs": [],
   "source": [
    "#Define variables\n",
    "J = 1\n",
    "k = 1\n",
    "T = np.arange(0,4,0.1) #temperature values\n",
    "n=50 #size of lattice\n",
    "t = 100000 #MC time steps\n",
    "E,M,C,X = np.zeros(T.size), np.zeros(T.size), np.zeros(T.size), np.zeros(T.size)\n",
    "n1, n2  = 1.0/(t*n*n), 1.0/(t*t*n*n) \n",
    "MagTot, EngTot = [],[]"
   ]
  },
  {
   "cell_type": "code",
   "execution_count": 33,
   "metadata": {},
   "outputs": [
    {
     "name": "stderr",
     "output_type": "stream",
     "text": [
      "C:\\Users\\aorfi\\Anaconda3\\lib\\site-packages\\ipykernel_launcher.py:5: RuntimeWarning: divide by zero encountered in double_scalars\n",
      "  \"\"\"\n"
     ]
    }
   ],
   "source": [
    "for i in range(T.size):\n",
    "    E1 = M1 = E2 = M2 = 0\n",
    "    #Generate random initial configuration\n",
    "    lattice = 2*np.random.randint(0,2,(n,n))-1;\n",
    "    B=1.0/T[i]; B2=B*B;\n",
    "    MagAr, EngAr, tPlot =[],[],[]\n",
    "    \n",
    "    for j in range(t):         \n",
    "        MetroSweep(lattice,J,B)   \n",
    "\n",
    "    #sweep and calculate Energy and Mag at each site\n",
    "    for j in range(t):\n",
    "        MetroSweep(lattice,J,B)          \n",
    "        Ene = Energy(lattice)     \n",
    "        Mag = MagCalc(lattice) \n",
    "        eng = Energy(lattice)\n",
    "        tPlot.append(j)\n",
    "        MagAr.append(Mag)\n",
    "        EngAr.append(eng)\n",
    "\n",
    "        E1 = E1 + Ene\n",
    "        M1 = M1 + Mag\n",
    "        M2 = M2 + Mag*Mag \n",
    "        E2 = E2 + Ene*Ene\n",
    "        \n",
    "    MagTot.append(MagAr)\n",
    "    EngTot.append(EngAr)\n",
    "    E[i] = n1*E1\n",
    "    M[i] = n1*M1\n",
    "    C[i] = (n1*E2 - n2*E1*E1)*B2 #given by B^2(<Ei^2>-<Ei>^2)\n",
    "    X[i] = (n1*M2 - n2*M1*M1)*B #given by B(<Si^2>-<Si>^2)"
   ]
  },
  {
   "cell_type": "code",
   "execution_count": null,
   "metadata": {},
   "outputs": [],
   "source": []
  },
  {
   "cell_type": "code",
   "execution_count": null,
   "metadata": {},
   "outputs": [],
   "source": []
  },
  {
   "cell_type": "code",
   "execution_count": null,
   "metadata": {},
   "outputs": [],
   "source": []
  },
  {
   "cell_type": "code",
   "execution_count": null,
   "metadata": {},
   "outputs": [],
   "source": []
  },
  {
   "cell_type": "code",
   "execution_count": null,
   "metadata": {},
   "outputs": [],
   "source": []
  }
 ],
 "metadata": {
  "kernelspec": {
   "display_name": "Python 3",
   "language": "python",
   "name": "python3"
  },
  "language_info": {
   "codemirror_mode": {
    "name": "ipython",
    "version": 3
   },
   "file_extension": ".py",
   "mimetype": "text/x-python",
   "name": "python",
   "nbconvert_exporter": "python",
   "pygments_lexer": "ipython3",
   "version": "3.7.3"
  }
 },
 "nbformat": 4,
 "nbformat_minor": 2
}
